{
 "cells": [
  {
   "cell_type": "markdown",
   "metadata": {},
   "source": [
    "not all problems solved here\n",
    "in total 5 of em"
   ]
  },
  {
   "cell_type": "markdown",
   "metadata": {},
   "source": [
    "First one"
   ]
  },
  {
   "cell_type": "code",
   "execution_count": null,
   "metadata": {},
   "outputs": [],
   "source": [
    "#####AAB DCA DDE AAA DEA\n",
    "s = \"AABDCADDEAAADEA\"\n",
    "k = 3\n",
    "count = 0\n",
    "print(s[0*(k):1*(k)])\n",
    "print(s[1*(k):2*(k)])\n",
    "print(s[2*(k):3*(k)])\n",
    "print(s[3*(k):4*(k)])\n",
    "print(s[4*(k):5*(k)])\n"
   ]
  },
  {
   "cell_type": "code",
   "execution_count": null,
   "metadata": {},
   "outputs": [],
   "source": [
    "%timeit\n",
    "s = \"AABDCADDEAAADEA\"\n",
    "k = 3\n",
    "count = 0\n",
    "x = []\n",
    "seen = set()\n",
    "for i in range(1,(len(s)//k)+1):\n",
    "    x.append(s[count*(k):i*(k)])\n",
    "    count+=1\n",
    "\n",
    "print(x)\n"
   ]
  },
  {
   "cell_type": "code",
   "execution_count": null,
   "metadata": {},
   "outputs": [],
   "source": [
    "#####AAB DCA DDE AAA DEA\n",
    "\n",
    "for i in range(0, len(s), k):\n",
    "        substr=[]\n",
    "        for j in range(i, i+k): #i = 0, 0+3\n",
    "            if s[j] not in substr:\n",
    "                substr.append(s[j])\n",
    "        print(''.join(substr))"
   ]
  },
  {
   "cell_type": "markdown",
   "metadata": {},
   "source": [
    "Second one"
   ]
  },
  {
   "cell_type": "code",
   "execution_count": null,
   "metadata": {},
   "outputs": [],
   "source": [
    "#this what i tried to do:\n",
    "import numpy as np\n",
    "\n",
    "my_array = np.array(input())\n",
    "\n",
    "array_sum = np.sum(my_array,axis = 0)\n",
    "\n",
    "print(np.prod(array_sum))"
   ]
  },
  {
   "cell_type": "code",
   "execution_count": null,
   "metadata": {},
   "outputs": [],
   "source": [
    "N, M = list(map(int, input().split()))\n",
    "my_array = [[str(i) for i in input().split()]for x in range(N)]# check this line of code in more detail\n",
    "\n",
    "print(my_array)\n",
    "#my_array = np.sum(my_array, axis = 0)\n",
    "#print(np.prod(my_array))\n"
   ]
  },
  {
   "cell_type": "markdown",
   "metadata": {},
   "source": [
    "Third one nested lists"
   ]
  },
  {
   "cell_type": "code",
   "execution_count": null,
   "metadata": {},
   "outputs": [],
   "source": [
    "#testing\n",
    "x = 3\n",
    "x_list = [[\"alex\",12],[\"joe\",32.21],[\"tekken\",24],[\"pavan\",24.01]]\n",
    "numbered_list = []\n",
    "for i in range(len(x_list)):\n",
    "    numbered_list.append(x_list[i][1])\n",
    "    \n",
    "numbered_list"
   ]
  },
  {
   "cell_type": "code",
   "execution_count": null,
   "metadata": {},
   "outputs": [],
   "source": [
    "numbered_list.sort(reverse=True)\n",
    "print(numbered_list)"
   ]
  },
  {
   "cell_type": "code",
   "execution_count": null,
   "metadata": {},
   "outputs": [],
   "source": [
    "for i in range(len(x_list)):\n",
    "    if x_list[i][1] == numbered_list[-2]:\n",
    "        print(x_list[i][0])"
   ]
  },
  {
   "cell_type": "code",
   "execution_count": null,
   "metadata": {},
   "outputs": [],
   "source": [
    "y_list=[]\n",
    "for _ in range(int(input())):\n",
    "        name = input()\n",
    "        score = float(input())\n",
    "        y_list.append(name)\n",
    "print(y_list)"
   ]
  },
  {
   "cell_type": "code",
   "execution_count": null,
   "metadata": {},
   "outputs": [],
   "source": [
    "y_list.\n"
   ]
  },
  {
   "cell_type": "code",
   "execution_count": null,
   "metadata": {},
   "outputs": [],
   "source": [
    "marks={}\n",
    "for _ in range(int(input())):\n",
    "    name = input()\n",
    "    score = float(input())\n",
    "    if score not in marks:\n",
    "        marks[score]=[name]\n",
    "    elif score in marks:\n",
    "        marks[score].append(name)\n",
    "\n",
    "second_lowest = sorted(marks)[1]\n",
    "\n",
    "students = sorted(marks[second_lowest])\n",
    "\n",
    "for i in students:\n",
    "        print(i)\n",
    "\n"
   ]
  },
  {
   "cell_type": "code",
   "execution_count": null,
   "metadata": {},
   "outputs": [],
   "source": [
    "n = int(input()) #done this myself no help\n",
    "student_marks = {}\n",
    "for _ in range(n):\n",
    "    name, *line = input().split()\n",
    "    scores = list(map(float, line))\n",
    "    student_marks[name] = scores\n",
    "query_name = input()\n",
    "if query_name in student_marks.keys():\n",
    "    print(\"{:.2f}\".format(sum(student_marks.get(query_name))/len(line)))"
   ]
  },
  {
   "cell_type": "code",
   "execution_count": null,
   "metadata": {},
   "outputs": [],
   "source": [
    "query_name = \"malika\"\n",
    "if query_name in student_marks.keys():\n",
    "    print(sum(student_marks.get(query_name))//len(line))"
   ]
  },
  {
   "cell_type": "code",
   "execution_count": null,
   "metadata": {},
   "outputs": [],
   "source": [
    "#pattrens\n",
    "n = \"abcdefghijklmnopqrstuvwxyz\"\n",
    "\n",
    "for n in range(1, n+1):\n",
    "\n",
    "    for m in range(1, n + 1):\n",
    "\n",
    "        print(m, end=\"\")\n",
    "\n",
    "    print(\"\")\n",
    "        "
   ]
  },
  {
   "cell_type": "code",
   "execution_count": null,
   "metadata": {},
   "outputs": [],
   "source": [
    "## check this program\n",
    "def print_rangoli(size):\n",
    "    alphabets=\"0abcdefghijklmnopqrstuvwxyz\"\n",
    "    letter=alphabets[size]\n",
    "    lenght=size+size-1\n",
    "    breadth=((size+size-1)*2)-1\n",
    "\n",
    "    print(letter.center(breadth,\"-\"))\n",
    "\n",
    "    for i in range(int((lenght/2))):\n",
    "        letter=f\"{letter}-{alphabets[size-1-i]}\"\n",
    "        style=\"-\"+letter[0:len(letter)-2][::-1]\n",
    "        print((letter+style).center(breadth,\"-\"))\n",
    "\n",
    "    if  size-1>0:\n",
    "        styling=str(letter+style)\n",
    "        for i in range(int((lenght/2))):\n",
    "            styling=styling.replace(f\"{alphabets[i+2]}-{alphabets[i+1]}-\",\"\").center(breadth,\"-\")\n",
    "        print(styling)"
   ]
  },
  {
   "cell_type": "code",
   "execution_count": null,
   "metadata": {},
   "outputs": [],
   "source": [
    "s = \"BANANA\"\n",
    "py = \"AEIOU\"\n",
    "setx = {}\n",
    "\n",
    "for i in range(len(s)):\n",
    "    if s[i] in px:\n",
    "        for j in range(2):\n",
    "            "
   ]
  },
  {
   "cell_type": "markdown",
   "metadata": {},
   "source": [
    "apple\n",
    "\n",
    "a\n",
    "ap\n",
    "app\n",
    "appl\n",
    "apple\n",
    "\n",
    "p\n",
    "pp\n",
    "ppl\n",
    "pple\n"
   ]
  },
  {
   "cell_type": "code",
   "execution_count": null,
   "metadata": {},
   "outputs": [],
   "source": [
    "s = \"APPLE\"\n",
    "stuart, kevin = 0, 0\n",
    "lens = len(s)\n",
    "for i in range(lens):\n",
    "    if s[i] in 'AEIOU':\n",
    "        kevin = kevin + lens - i\n",
    "        #0 + 5 -0 = 5 ,i = 0\n",
    "        # 5 + 5 -4 = 6, i = 4\n",
    "    else:\n",
    "        stuart = stuart + lens - i\n",
    "        #0 + 5 -1 = 4,i =1\n",
    "        #4 + 5 -2 = 7,i = 2\n",
    "        #7 + 5 -3 = 9,i = 3\n",
    "    #print(\"kevin\",kevin)\n",
    "    #print(\"stuart\",stuart)\n",
    "    #print(\" \")\n",
    "if kevin > stuart:\n",
    "    print('Kevin ' + str(kevin))\n",
    "elif kevin < stuart:\n",
    "    print('Stuart ' + str(stuart))\n",
    "else:\n",
    "    print('Draw')"
   ]
  },
  {
   "cell_type": "code",
   "execution_count": null,
   "metadata": {},
   "outputs": [],
   "source": [
    "seta = {1,2,10,4,5,6}\n",
    "setb = {1,2,3,4,5,6,7,8,9}\n",
    "count = 0\n",
    "\n",
    "for i in seta:\n",
    "    if i in setb:\n",
    "        count +=1\n",
    "    else:\n",
    "        pass\n",
    "if count == len(seta):\n",
    "    print(True)\n",
    "else:\n",
    "    print(False)"
   ]
  },
  {
   "cell_type": "code",
   "execution_count": null,
   "metadata": {},
   "outputs": [],
   "source": [
    "def subset(lenA, A, lenB, B):\n",
    "    result = True\n",
    "    for num in A:\n",
    "        if num not in B:\n",
    "            result = False\n",
    "    return result\n",
    "        \n",
    "for test_case in range(int(input())):\n",
    "    lenA = int(input())\n",
    "    A = set(input().split())\n",
    "    lenB = int(input())\n",
    "    B = set(input().split())\n",
    "    if (lenA > lenB):\n",
    "        print(False)\n",
    "    else:\n",
    "        print(subset(lenA, A, lenB, B))"
   ]
  },
  {
   "cell_type": "markdown",
   "metadata": {},
   "source": [
    "for _ in range(int(input())):\n",
    "    x, a, z, b = input(), set(input().split()), input(), set(input().split())\n",
    "print(a.issubset(b))"
   ]
  },
  {
   "cell_type": "markdown",
   "metadata": {},
   "source": [
    "##31/05/2024"
   ]
  },
  {
   "cell_type": "code",
   "execution_count": null,
   "metadata": {},
   "outputs": [],
   "source": [
    "main = set(input().split())\n",
    "print(main)\n",
    "false ,true = 0,0\n",
    "totalsets = int(input())\n",
    "for i in range(totalsets):\n",
    "    firstset = set(input().split())\n",
    "    print(firstset)\n",
    "    if main > firstset:\n",
    "        true +=1\n",
    "    else:\n",
    "        false +=1\n",
    "if false > 0:\n",
    "    print(False)\n",
    "else:\n",
    "    print(True)"
   ]
  },
  {
   "cell_type": "code",
   "execution_count": null,
   "metadata": {},
   "outputs": [],
   "source": [
    "from html.parser import HTMLParser# me tried it\n",
    "class MyHTMLParser(HTMLParser):\n",
    "    def handle_starttag(self, tag, attrs):\n",
    "        print(\"start :\", tag)\n",
    "        for i in attrs:\n",
    "            for j in i:\n",
    "                if i.index(j) == 0:\n",
    "                    print(\"->\",j,end=\" \")\n",
    "                elif i.index(j) > 0 and j != \" \":\n",
    "                    print(\">\",j)\n",
    "                else:\n",
    "                    print(\">\",None)\n",
    "\n",
    "    def handle_endtag(self, tag):\n",
    "        print(\"end   :\", tag)\n",
    "    \n",
    "    def handle_startendtag(self, tag, attrs):\n",
    "        print(\"Empty :\", tag)\n",
    "\n",
    "for i in range(int(input())):\n",
    "    parser = MyHTMLParser()\n",
    "    tag = input()\n",
    "    parser.feed(f\"{tag}\")"
   ]
  },
  {
   "cell_type": "code",
   "execution_count": 3,
   "metadata": {},
   "outputs": [
    {
     "name": "stdout",
     "output_type": "stream",
     "text": [
      "Start : html\n",
      "Start : head\n",
      "Start : title\n",
      "End   : title\n",
      "Start : head\n"
     ]
    }
   ],
   "source": [
    "from html.parser import HTMLParser ## optimized\n",
    "\n",
    "class MyParser(HTMLParser):\n",
    "    def handle_starttag(self, tag, attrs):\n",
    "        print(f'Start : {tag}')\n",
    "        self.print_attrs(attrs)\n",
    "        \n",
    "    def handle_endtag(self, tag):\n",
    "        print(f'End   : {tag}')\n",
    "\n",
    "    def handle_startendtag(self, tag, attrs):\n",
    "        print(f'Empty : {tag}')\n",
    "        self.print_attrs(attrs)\n",
    "\n",
    "    def print_attrs(self, attrs):\n",
    "        for name, value in attrs:\n",
    "            print(f'-> {name} > {value}')\n",
    "\n",
    "parser = MyParser()\n",
    "parser.feed(''.join(input(\"enter html:\") for _ in range(int(input(\"enter number:\")))))"
   ]
  },
  {
   "cell_type": "code",
   "execution_count": 12,
   "metadata": {},
   "outputs": [
    {
     "ename": "TypeError",
     "evalue": "HTMLParser.feed() missing 1 required positional argument: 'data'",
     "output_type": "error",
     "traceback": [
      "\u001b[1;31m---------------------------------------------------------------------------\u001b[0m",
      "\u001b[1;31mTypeError\u001b[0m                                 Traceback (most recent call last)",
      "Cell \u001b[1;32mIn[12], line 12\u001b[0m\n\u001b[0;32m     10\u001b[0m html \u001b[38;5;241m=\u001b[39m \u001b[38;5;124m\"\u001b[39m\u001b[38;5;124m<!--[if IE 9]>IE9-specific content\u001b[39m\u001b[38;5;124m\"\u001b[39m\n\u001b[0;32m     11\u001b[0m parser \u001b[38;5;241m=\u001b[39m MyHTMLParser\n\u001b[1;32m---> 12\u001b[0m \u001b[43mparser\u001b[49m\u001b[38;5;241;43m.\u001b[39;49m\u001b[43mfeed\u001b[49m\u001b[43m(\u001b[49m\u001b[43mhtml\u001b[49m\u001b[43m)\u001b[49m\n\u001b[0;32m     13\u001b[0m parser\u001b[38;5;241m.\u001b[39mclose()\n",
      "\u001b[1;31mTypeError\u001b[0m: HTMLParser.feed() missing 1 required positional argument: 'data'"
     ]
    }
   ],
   "source": [
    "from html.parser import HTMLParser\n",
    "\n",
    "class MyHTMLParser(HTMLParser):\n",
    "    def handle_comment(self, data):\n",
    "        print(\"Comment  :\", data)\n",
    "    \n",
    "    def handle_data(self,data):\n",
    "        print(\"Data :\",data)\n",
    "\n",
    "html = \"<!--[if IE 9]>IE9-specific content\"\n",
    "parser = MyHTMLParser\n",
    "parser.feed(html)\n",
    "parser.close()"
   ]
  },
  {
   "cell_type": "code",
   "execution_count": 15,
   "metadata": {},
   "outputs": [
    {
     "name": "stdout",
     "output_type": "stream",
     "text": [
      "pavan and myself are\n",
      "oging to different places\n",
      "would like to join us?\n",
      "\n"
     ]
    }
   ],
   "source": [
    "html1 = \"\"\n",
    "for i in range(int(input())):\n",
    "    html1 += input().rstrip()\n",
    "    html1 += '\\n'\n",
    "\n",
    "print(html1)"
   ]
  },
  {
   "cell_type": "code",
   "execution_count": 18,
   "metadata": {},
   "outputs": [
    {
     "name": "stdout",
     "output_type": "stream",
     "text": [
      "2.23606797749979\n",
      "1.1071487177940904\n"
     ]
    }
   ],
   "source": [
    "import cmath\n",
    "\n",
    "x = input()\n",
    "complexx = complex(x)\n",
    "print(abs(complex(complexx.real, complexx.imag)))\n",
    "print(cmath.phase(complex(complexx.real, complexx.imag)))"
   ]
  },
  {
   "cell_type": "code",
   "execution_count": 4,
   "metadata": {},
   "outputs": [
    {
     "name": "stdout",
     "output_type": "stream",
     "text": [
      "45°\n"
     ]
    }
   ],
   "source": [
    "import math \n",
    "AB = float(input())\n",
    "BC = float(input())\n",
    "# u'\\xb0' is unicode degree\n",
    "MBC = str(round(math.degrees(math.atan2(AB, BC))))+'\\xb0'\n",
    "print(MBC)"
   ]
  },
  {
   "cell_type": "code",
   "execution_count": 94,
   "metadata": {},
   "outputs": [
    {
     "name": "stdout",
     "output_type": "stream",
     "text": [
      "1\n",
      "121\n",
      "12321\n",
      "1234321\n",
      "123454321\n"
     ]
    }
   ],
   "source": [
    "pal = 0\n",
    "for i in range(1,int(input())+1):\n",
    "    pal = int(f\"{'' if pal//(10**(1 if i == 1 else (i-2))) == 0 else pal//(10**(1 if i == 1 else (i-2)))}\" + f\"{i}\" + f\"{pal%(10**(i-1)) if pal%(10**(i-1)) != 0 else ''}\")\n",
    "    print(pal)"
   ]
  },
  {
   "cell_type": "code",
   "execution_count": 86,
   "metadata": {},
   "outputs": [
    {
     "name": "stdout",
     "output_type": "stream",
     "text": [
      "1\n",
      "121\n",
      "12321\n",
      "1234321\n",
      "123454321\n"
     ]
    }
   ],
   "source": [
    "for i in range(1,int(input())+1): #More than 2 lines will result in 0 score. Do not leave a blank line also\n",
    "    print (((10 ** i - 1) // 9) ** 2)"
   ]
  },
  {
   "cell_type": "code",
   "execution_count": 98,
   "metadata": {},
   "outputs": [
    {
     "name": "stdout",
     "output_type": "stream",
     "text": [
      "(20, 0)\n"
     ]
    }
   ],
   "source": [
    "print(divmod(int(input()),int(input())))"
   ]
  },
  {
   "cell_type": "code",
   "execution_count": null,
   "metadata": {},
   "outputs": [],
   "source": [
    "divmod(int(input()),int(input()))"
   ]
  },
  {
   "cell_type": "code",
   "execution_count": 1,
   "metadata": {},
   "outputs": [
    {
     "name": "stdout",
     "output_type": "stream",
     "text": [
      "['spam', 'not_spam']\n"
     ]
    }
   ],
   "source": [
    "%timeit\n",
    "def spam(s,sw):\n",
    "    result=[]\n",
    "    for sub in s:\n",
    "        count=0\n",
    "        words = sub.lower().split()\n",
    "        for spam_w in sw:\n",
    "            count+=words.count(spam_w.lower())\n",
    "        if count>=2:\n",
    "            result.append(\"spam\")\n",
    "        else:\n",
    "            result.append(\"not_spam\")\n",
    "    return(result)\n",
    "\n",
    "\n",
    "subject = [\"free prize worth millions\",\"ten tips for a carefree lifestyle\"]\n",
    "spam_words = [\"free\",\"money\",\"win\",\"millions\"]\n",
    "\n",
    "print(spam(subject,spam_words))"
   ]
  },
  {
   "cell_type": "code",
   "execution_count": null,
   "metadata": {},
   "outputs": [],
   "source": []
  }
 ],
 "metadata": {
  "kernelspec": {
   "display_name": "Python 3",
   "language": "python",
   "name": "python3"
  },
  "language_info": {
   "codemirror_mode": {
    "name": "ipython",
    "version": 3
   },
   "file_extension": ".py",
   "mimetype": "text/x-python",
   "name": "python",
   "nbconvert_exporter": "python",
   "pygments_lexer": "ipython3",
   "version": "3.12.3"
  }
 },
 "nbformat": 4,
 "nbformat_minor": 2
}
