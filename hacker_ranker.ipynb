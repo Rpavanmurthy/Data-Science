{
 "cells": [
  {
   "cell_type": "markdown",
   "metadata": {},
   "source": [
    "not all problems solved here\n",
    "in total 5 of em"
   ]
  },
  {
   "cell_type": "markdown",
   "metadata": {},
   "source": [
    "First one"
   ]
  },
  {
   "cell_type": "code",
   "execution_count": null,
   "metadata": {},
   "outputs": [],
   "source": [
    "#####AAB DCA DDE AAA DEA\n",
    "s = \"AABDCADDEAAADEA\"\n",
    "k = 3\n",
    "count = 0\n",
    "print(s[0*(k):1*(k)])\n",
    "print(s[1*(k):2*(k)])\n",
    "print(s[2*(k):3*(k)])\n",
    "print(s[3*(k):4*(k)])\n",
    "print(s[4*(k):5*(k)])\n"
   ]
  },
  {
   "cell_type": "code",
   "execution_count": null,
   "metadata": {},
   "outputs": [],
   "source": [
    "%timeit\n",
    "s = \"AABDCADDEAAADEA\"\n",
    "k = 3\n",
    "count = 0\n",
    "x = []\n",
    "seen = set()\n",
    "for i in range(1,(len(s)//k)+1):\n",
    "    x.append(s[count*(k):i*(k)])\n",
    "    count+=1\n",
    "\n",
    "print(x)\n"
   ]
  },
  {
   "cell_type": "code",
   "execution_count": null,
   "metadata": {},
   "outputs": [],
   "source": [
    "#####AAB DCA DDE AAA DEA\n",
    "\n",
    "for i in range(0, len(s), k):\n",
    "        substr=[]\n",
    "        for j in range(i, i+k): #i = 0, 0+3\n",
    "            if s[j] not in substr:\n",
    "                substr.append(s[j])\n",
    "        print(''.join(substr))"
   ]
  },
  {
   "cell_type": "markdown",
   "metadata": {},
   "source": [
    "Second one"
   ]
  },
  {
   "cell_type": "code",
   "execution_count": null,
   "metadata": {},
   "outputs": [],
   "source": [
    "#this what i tried to do:\n",
    "import numpy as np\n",
    "\n",
    "my_array = np.array(input())\n",
    "\n",
    "array_sum = np.sum(my_array,axis = 0)\n",
    "\n",
    "print(np.prod(array_sum))"
   ]
  },
  {
   "cell_type": "code",
   "execution_count": null,
   "metadata": {},
   "outputs": [],
   "source": [
    "N, M = list(map(int, input().split()))\n",
    "my_array = [[int(i) for i in input().split()]for x in range(N)]# check this line of code in more detail\n",
    "\n",
    "my_array = np.sum(my_array, axis = 0)\n",
    "print(np.prod(my_array))"
   ]
  },
  {
   "cell_type": "markdown",
   "metadata": {},
   "source": [
    "Third one"
   ]
  },
  {
   "cell_type": "code",
   "execution_count": null,
   "metadata": {},
   "outputs": [],
   "source": []
  }
 ],
 "metadata": {
  "kernelspec": {
   "display_name": "Python 3",
   "language": "python",
   "name": "python3"
  },
  "language_info": {
   "codemirror_mode": {
    "name": "ipython",
    "version": 3
   },
   "file_extension": ".py",
   "mimetype": "text/x-python",
   "name": "python",
   "nbconvert_exporter": "python",
   "pygments_lexer": "ipython3",
   "version": "3.12.3"
  }
 },
 "nbformat": 4,
 "nbformat_minor": 2
}
